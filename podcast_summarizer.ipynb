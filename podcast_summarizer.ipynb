{
 "cells": [
  {
   "cell_type": "code",
   "execution_count": 3,
   "metadata": {},
   "outputs": [],
   "source": [
    "import requests"
   ]
  },
  {
   "cell_type": "code",
   "execution_count": 35,
   "metadata": {},
   "outputs": [],
   "source": [
    "API_KEY = '64e1315db7fb4cdcba99f9141aacc7c2'\n",
    "AUDIO_FILE = 'SDS_test_podcast_7min.mp3'"
   ]
  },
  {
   "cell_type": "code",
   "execution_count": 36,
   "metadata": {},
   "outputs": [
    {
     "name": "stdout",
     "output_type": "stream",
     "text": [
      "Audio file uploaded\n",
      "Transcription Requested\n",
      "{'acoustic_model': 'assemblyai_default',\n",
      " 'audio_duration': None,\n",
      " 'audio_end_at': None,\n",
      " 'audio_start_from': None,\n",
      " 'audio_url': 'https://cdn.assemblyai.com/upload/ad711c92-e499-44fc-9aad-30ac567495ea',\n",
      " 'auto_chapters': False,\n",
      " 'auto_highlights': False,\n",
      " 'auto_highlights_result': None,\n",
      " 'boost_param': None,\n",
      " 'chapters': None,\n",
      " 'confidence': None,\n",
      " 'content_safety': False,\n",
      " 'content_safety_labels': {},\n",
      " 'disfluencies': False,\n",
      " 'dual_channel': None,\n",
      " 'entities': None,\n",
      " 'entity_detection': False,\n",
      " 'filter_profanity': False,\n",
      " 'format_text': True,\n",
      " 'iab_categories': False,\n",
      " 'iab_categories_result': {},\n",
      " 'id': 'oza0sl28ht-9dcd-4365-984b-c609a53046ec',\n",
      " 'language_code': 'en_us',\n",
      " 'language_model': 'assemblyai_default',\n",
      " 'punctuate': True,\n",
      " 'redact_pii': False,\n",
      " 'redact_pii_audio': False,\n",
      " 'redact_pii_audio_quality': None,\n",
      " 'redact_pii_policies': None,\n",
      " 'redact_pii_sub': None,\n",
      " 'sentiment_analysis': False,\n",
      " 'sentiment_analysis_results': None,\n",
      " 'speaker_labels': False,\n",
      " 'speed_boost': False,\n",
      " 'status': 'queued',\n",
      " 'text': None,\n",
      " 'utterances': None,\n",
      " 'webhook_status_code': None,\n",
      " 'webhook_url': None,\n",
      " 'word_boost': [],\n",
      " 'words': None}\n",
      "File is processing\n",
      "File is completed\n",
      "Transcript saved to oza0sl28ht-9dcd-4365-984b-c609a53046ec.txt\n"
     ]
    }
   ],
   "source": [
    "import sys\n",
    "# from configure import auth_key\n",
    "import requests\n",
    "import pprint\n",
    "from time import sleep\n",
    " \n",
    "# store global constants\n",
    "headers = {\n",
    "   \"authorization\": API_KEY,\n",
    "   \"content-type\": \"application/json\"\n",
    "}\n",
    "transcript_endpoint = \"https://api.assemblyai.com/v2/transcript\"\n",
    "upload_endpoint = 'https://api.assemblyai.com/v2/upload'\n",
    " \n",
    "# make a function to pass the mp3 to the upload endpoint\n",
    "def read_file(filename):\n",
    "   with open(filename, 'rb') as _file:\n",
    "       while True:\n",
    "           data = _file.read(5242880)\n",
    "           if not data:\n",
    "               break\n",
    "           yield data\n",
    " \n",
    "# upload our audio file\n",
    "upload_response = requests.post(\n",
    "   upload_endpoint,\n",
    "   headers=headers, data=read_file(AUDIO_FILE)\n",
    ")\n",
    "print('Audio file uploaded')\n",
    " \n",
    "# send a request to transcribe the audio file\n",
    "transcript_request = {'audio_url': upload_response.json()['upload_url']}\n",
    "transcript_response = requests.post(transcript_endpoint, json=transcript_request, headers=headers)\n",
    "print('Transcription Requested')\n",
    "pprint.pprint(transcript_response.json())\n",
    "# set up polling\n",
    "polling_response = requests.get(transcript_endpoint+\"/\"+transcript_response.json()['id'], headers=headers)\n",
    "filename = transcript_response.json()['id'] + '.txt'\n",
    "# if our status isn’t complete, sleep and then poll again\n",
    "while polling_response.json()['status'] != 'completed':\n",
    "   sleep(30)\n",
    "   polling_response = requests.get(transcript_endpoint+\"/\"+transcript_response.json()['id'], headers=headers)\n",
    "   print(\"File is\", polling_response.json()['status'])\n",
    "with open(filename, 'w') as f:\n",
    "   f.write(polling_response.json()['text'])\n",
    "print('Transcript saved to', filename)"
   ]
  },
  {
   "cell_type": "code",
   "execution_count": 8,
   "metadata": {},
   "outputs": [],
   "source": [
    "import spacy\n",
    "from spacy.lang.en.stop_words import STOP_WORDS\n",
    "from string import punctuation\n",
    "from heapq import nlargest"
   ]
  },
  {
   "cell_type": "code",
   "execution_count": 31,
   "metadata": {},
   "outputs": [],
   "source": [
    "def summarize(summary_file, per):\n",
    "    nlp = spacy.load('en_core_web_sm')\n",
    "    with open (summary_file, \"r\") as myfile:\n",
    "        text = myfile.read()\n",
    "    doc = nlp(text)\n",
    "    tokens=[token.text for token in doc]\n",
    "    word_frequencies={}\n",
    "    for word in doc:\n",
    "        if word.text.lower() not in list(STOP_WORDS):\n",
    "            if word.text.lower() not in punctuation:\n",
    "                if word.text not in word_frequencies.keys():\n",
    "                    word_frequencies[word.text] = 1\n",
    "                else:\n",
    "                    word_frequencies[word.text] += 1\n",
    "    max_frequency=max(word_frequencies.values())\n",
    "    for word in word_frequencies.keys():\n",
    "        word_frequencies[word]=word_frequencies[word]/max_frequency\n",
    "    sentence_tokens= [sent for sent in doc.sents]\n",
    "    sentence_scores = {}\n",
    "    for sent in sentence_tokens:\n",
    "        for word in sent:\n",
    "            if word.text.lower() in word_frequencies.keys():\n",
    "                if sent not in sentence_scores.keys():                            \n",
    "                    sentence_scores[sent]=word_frequencies[word.text.lower()]\n",
    "                else:\n",
    "                    sentence_scores[sent]+=word_frequencies[word.text.lower()]\n",
    "    select_length=int(len(sentence_tokens)*per)\n",
    "    summary=nlargest(select_length, sentence_scores,key=sentence_scores.get)\n",
    "    final_summary=[word.text for word in summary]\n",
    "    summary=''.join(final_summary)\n",
    "    return text, summary"
   ]
  },
  {
   "cell_type": "code",
   "execution_count": 37,
   "metadata": {},
   "outputs": [],
   "source": [
    "text, summary = summarize('SDS_test_podcast_7min.txt', per=0.1)"
   ]
  },
  {
   "cell_type": "code",
   "execution_count": 4,
   "metadata": {},
   "outputs": [],
   "source": [
    "import streamlit as st\n",
    "\n",
    "uploaded_file = st.file_uploader(\"Upload your podcast audio file\")"
   ]
  },
  {
   "cell_type": "code",
   "execution_count": 5,
   "metadata": {},
   "outputs": [],
   "source": [
    "st.set_page_config(\n",
    "    page_title=\"A/B Testing App\", page_icon=\"📊\", initial_sidebar_state=\"expanded\"\n",
    ")"
   ]
  },
  {
   "cell_type": "code",
   "execution_count": null,
   "metadata": {},
   "outputs": [],
   "source": []
  },
  {
   "cell_type": "code",
   "execution_count": null,
   "metadata": {},
   "outputs": [],
   "source": []
  }
 ],
 "metadata": {
  "interpreter": {
   "hash": "1fb8e078cb962540c7e7ee51bf113dc58305575cec4abc5de20bbf9c14466811"
  },
  "kernelspec": {
   "display_name": "Python 3.7.6 ('base')",
   "language": "python",
   "name": "python3"
  },
  "language_info": {
   "codemirror_mode": {
    "name": "ipython",
    "version": 3
   },
   "file_extension": ".py",
   "mimetype": "text/x-python",
   "name": "python",
   "nbconvert_exporter": "python",
   "pygments_lexer": "ipython3",
   "version": "3.7.6"
  },
  "orig_nbformat": 4
 },
 "nbformat": 4,
 "nbformat_minor": 2
}
