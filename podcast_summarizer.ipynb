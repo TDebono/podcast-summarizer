{
 "cells": [
  {
   "cell_type": "code",
   "execution_count": 1,
   "metadata": {},
   "outputs": [],
   "source": [
    "import requests"
   ]
  },
  {
   "cell_type": "code",
   "execution_count": 2,
   "metadata": {},
   "outputs": [],
   "source": [
    "API_KEY = '64e1315db7fb4cdcba99f9141aacc7c2'\n",
    "AUDIO_FILE = 'test_data\\\\test_file1.wav'"
   ]
  },
  {
   "cell_type": "code",
   "execution_count": 3,
   "metadata": {},
   "outputs": [
    {
     "name": "stderr",
     "output_type": "stream",
     "text": [
      "2022-04-09 23:02:08.819 INFO    numexpr.utils: NumExpr defaulting to 4 threads.\n"
     ]
    },
    {
     "name": "stdout",
     "output_type": "stream",
     "text": [
      "File is completed\n"
     ]
    }
   ],
   "source": [
    "import streamlit as st\n",
    "import sys\n",
    "# from configure import auth_key\n",
    "import requests\n",
    "import pprint\n",
    "from time import sleep\n",
    "\n",
    "uploaded_file = st.file_uploader(\"Upload your podcast audio file\")\n",
    "\n",
    " \n",
    "headers = {\n",
    "   \"authorization\": API_KEY,\n",
    "   \"content-type\": \"application/json\"\n",
    "}\n",
    "\n",
    "transcript_endpoint = \"https://api.assemblyai.com/v2/transcript\"\n",
    "upload_endpoint = 'https://api.assemblyai.com/v2/upload'\n",
    " \n",
    "# make a function to pass the mp3 to the upload endpoint\n",
    "def read_file(filename):\n",
    "   with open(filename, 'rb') as _file:\n",
    "       while True:\n",
    "           data = _file.read(5242880)\n",
    "           if not data:\n",
    "               break\n",
    "           yield data\n",
    " \n",
    "# upload our audio file\n",
    "upload_response = requests.post(\n",
    "   upload_endpoint,\n",
    "   headers=headers, data=read_file(uploaded_file)\n",
    ")\n",
    "# print('Audio file uploaded')\n",
    " \n",
    "# send a request to transcribe the audio file\n",
    "transcript_request = {'audio_url': upload_response.json()['upload_url']}\n",
    "transcript_response = requests.post(transcript_endpoint, json=transcript_request, headers=headers)\n",
    "\n",
    "# print('Transcription Requested')\n",
    "# pprint.pprint(transcript_response.json())\n",
    "\n",
    "# set up polling\n",
    "polling_response = requests.get(transcript_endpoint+\"/\"+transcript_response.json()['id'], headers=headers)\n",
    "filename = transcript_response.json()['id'] + '.txt'\n",
    "\n",
    "# if our status isn’t complete, sleep and then poll again\n",
    "while polling_response.json()['status'] != 'completed':\n",
    "   sleep(30)\n",
    "   polling_response = requests.get(transcript_endpoint+\"/\"+transcript_response.json()['id'], headers=headers)\n",
    "   print(\"File is\", polling_response.json()['status'])\n",
    "# with open(filename, 'w') as f:\n",
    "#    f.write(polling_response.json()['text'])\n",
    "# print('Transcript saved to', filename)\n",
    "\n",
    "final_transcription = polling_response.json()['text']"
   ]
  },
  {
   "cell_type": "code",
   "execution_count": null,
   "metadata": {},
   "outputs": [],
   "source": []
  },
  {
   "cell_type": "code",
   "execution_count": null,
   "metadata": {},
   "outputs": [],
   "source": []
  },
  {
   "cell_type": "code",
   "execution_count": null,
   "metadata": {},
   "outputs": [],
   "source": []
  },
  {
   "cell_type": "code",
   "execution_count": null,
   "metadata": {},
   "outputs": [],
   "source": []
  },
  {
   "cell_type": "code",
   "execution_count": null,
   "metadata": {},
   "outputs": [],
   "source": [
    "import spacy\n",
    "from spacy.lang.en.stop_words import STOP_WORDS\n",
    "from string import punctuation\n",
    "from heapq import nlargest\n",
    "\n",
    "def summarize(summary_file, per):\n",
    "    nlp = spacy.load('en_core_web_sm')\n",
    "    with open (summary_file, \"r\") as myfile:\n",
    "        text = myfile.read()\n",
    "    doc = nlp(text)\n",
    "    tokens=[token.text for token in doc]\n",
    "    word_frequencies={}\n",
    "    for word in doc:\n",
    "        if word.text.lower() not in list(STOP_WORDS):\n",
    "            if word.text.lower() not in punctuation:\n",
    "                if word.text not in word_frequencies.keys():\n",
    "                    word_frequencies[word.text] = 1\n",
    "                else:\n",
    "                    word_frequencies[word.text] += 1\n",
    "    max_frequency=max(word_frequencies.values())\n",
    "    for word in word_frequencies.keys():\n",
    "        word_frequencies[word]=word_frequencies[word]/max_frequency\n",
    "    sentence_tokens= [sent for sent in doc.sents]\n",
    "    sentence_scores = {}\n",
    "    for sent in sentence_tokens:\n",
    "        for word in sent:\n",
    "            if word.text.lower() in word_frequencies.keys():\n",
    "                if sent not in sentence_scores.keys():                            \n",
    "                    sentence_scores[sent]=word_frequencies[word.text.lower()]\n",
    "                else:\n",
    "                    sentence_scores[sent]+=word_frequencies[word.text.lower()]\n",
    "    select_length=int(len(sentence_tokens)*per)\n",
    "    summary=nlargest(select_length, sentence_scores,key=sentence_scores.get)\n",
    "    final_summary=[word.text for word in summary]\n",
    "    summary=''.join(final_summary)\n",
    "    return text, summary"
   ]
  }
 ],
 "metadata": {
  "interpreter": {
   "hash": "1fb8e078cb962540c7e7ee51bf113dc58305575cec4abc5de20bbf9c14466811"
  },
  "kernelspec": {
   "display_name": "Python 3.7.6 ('base')",
   "language": "python",
   "name": "python3"
  },
  "language_info": {
   "codemirror_mode": {
    "name": "ipython",
    "version": 3
   },
   "file_extension": ".py",
   "mimetype": "text/x-python",
   "name": "python",
   "nbconvert_exporter": "python",
   "pygments_lexer": "ipython3",
   "version": "3.7.6"
  },
  "orig_nbformat": 4
 },
 "nbformat": 4,
 "nbformat_minor": 2
}
